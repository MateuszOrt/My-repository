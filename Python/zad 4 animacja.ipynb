{
 "cells": [
  {
   "cell_type": "code",
   "execution_count": 89,
   "metadata": {},
   "outputs": [],
   "source": [
    "import pandas as pd"
   ]
  },
  {
   "cell_type": "code",
   "execution_count": 90,
   "metadata": {},
   "outputs": [],
   "source": [
    "df=pd.read_csv('Europe cent asia.csv')"
   ]
  },
  {
   "cell_type": "code",
   "execution_count": 91,
   "metadata": {},
   "outputs": [
    {
     "data": {
      "text/html": [
       "<div>\n",
       "<style scoped>\n",
       "    .dataframe tbody tr th:only-of-type {\n",
       "        vertical-align: middle;\n",
       "    }\n",
       "\n",
       "    .dataframe tbody tr th {\n",
       "        vertical-align: top;\n",
       "    }\n",
       "\n",
       "    .dataframe thead th {\n",
       "        text-align: right;\n",
       "    }\n",
       "</style>\n",
       "<table border=\"1\" class=\"dataframe\">\n",
       "  <thead>\n",
       "    <tr style=\"text-align: right;\">\n",
       "      <th></th>\n",
       "      <th>Series Name</th>\n",
       "      <th>Series Code</th>\n",
       "      <th>Country Name</th>\n",
       "      <th>Country Code</th>\n",
       "      <th>2015 [YR2015]</th>\n",
       "    </tr>\n",
       "  </thead>\n",
       "  <tbody>\n",
       "    <tr>\n",
       "      <th>0</th>\n",
       "      <td>Cause of death, by injury (% of total)</td>\n",
       "      <td>SH.DTH.INJR.ZS</td>\n",
       "      <td>Albania</td>\n",
       "      <td>ALB</td>\n",
       "      <td>4.12681470034922</td>\n",
       "    </tr>\n",
       "    <tr>\n",
       "      <th>1</th>\n",
       "      <td>Cause of death, by injury (% of total)</td>\n",
       "      <td>SH.DTH.INJR.ZS</td>\n",
       "      <td>Andorra</td>\n",
       "      <td>AND</td>\n",
       "      <td>..</td>\n",
       "    </tr>\n",
       "    <tr>\n",
       "      <th>2</th>\n",
       "      <td>Cause of death, by injury (% of total)</td>\n",
       "      <td>SH.DTH.INJR.ZS</td>\n",
       "      <td>Armenia</td>\n",
       "      <td>ARM</td>\n",
       "      <td>4.41768970251022</td>\n",
       "    </tr>\n",
       "    <tr>\n",
       "      <th>3</th>\n",
       "      <td>Cause of death, by injury (% of total)</td>\n",
       "      <td>SH.DTH.INJR.ZS</td>\n",
       "      <td>Austria</td>\n",
       "      <td>AUT</td>\n",
       "      <td>5.37756284546725</td>\n",
       "    </tr>\n",
       "    <tr>\n",
       "      <th>4</th>\n",
       "      <td>Cause of death, by injury (% of total)</td>\n",
       "      <td>SH.DTH.INJR.ZS</td>\n",
       "      <td>Azerbaijan</td>\n",
       "      <td>AZE</td>\n",
       "      <td>4.37324129505155</td>\n",
       "    </tr>\n",
       "    <tr>\n",
       "      <th>...</th>\n",
       "      <td>...</td>\n",
       "      <td>...</td>\n",
       "      <td>...</td>\n",
       "      <td>...</td>\n",
       "      <td>...</td>\n",
       "    </tr>\n",
       "    <tr>\n",
       "      <th>116</th>\n",
       "      <td>NaN</td>\n",
       "      <td>NaN</td>\n",
       "      <td>NaN</td>\n",
       "      <td>NaN</td>\n",
       "      <td>NaN</td>\n",
       "    </tr>\n",
       "    <tr>\n",
       "      <th>117</th>\n",
       "      <td>NaN</td>\n",
       "      <td>NaN</td>\n",
       "      <td>NaN</td>\n",
       "      <td>NaN</td>\n",
       "      <td>NaN</td>\n",
       "    </tr>\n",
       "    <tr>\n",
       "      <th>118</th>\n",
       "      <td>NaN</td>\n",
       "      <td>NaN</td>\n",
       "      <td>NaN</td>\n",
       "      <td>NaN</td>\n",
       "      <td>NaN</td>\n",
       "    </tr>\n",
       "    <tr>\n",
       "      <th>119</th>\n",
       "      <td>Data from database: World Development Indicators</td>\n",
       "      <td>NaN</td>\n",
       "      <td>NaN</td>\n",
       "      <td>NaN</td>\n",
       "      <td>NaN</td>\n",
       "    </tr>\n",
       "    <tr>\n",
       "      <th>120</th>\n",
       "      <td>Last Updated: 11/23/2021</td>\n",
       "      <td>NaN</td>\n",
       "      <td>NaN</td>\n",
       "      <td>NaN</td>\n",
       "      <td>NaN</td>\n",
       "    </tr>\n",
       "  </tbody>\n",
       "</table>\n",
       "<p>121 rows × 5 columns</p>\n",
       "</div>"
      ],
      "text/plain": [
       "                                          Series Name     Series Code  \\\n",
       "0              Cause of death, by injury (% of total)  SH.DTH.INJR.ZS   \n",
       "1              Cause of death, by injury (% of total)  SH.DTH.INJR.ZS   \n",
       "2              Cause of death, by injury (% of total)  SH.DTH.INJR.ZS   \n",
       "3              Cause of death, by injury (% of total)  SH.DTH.INJR.ZS   \n",
       "4              Cause of death, by injury (% of total)  SH.DTH.INJR.ZS   \n",
       "..                                                ...             ...   \n",
       "116                                               NaN             NaN   \n",
       "117                                               NaN             NaN   \n",
       "118                                               NaN             NaN   \n",
       "119  Data from database: World Development Indicators             NaN   \n",
       "120                          Last Updated: 11/23/2021             NaN   \n",
       "\n",
       "    Country Name Country Code     2015 [YR2015]  \n",
       "0        Albania          ALB  4.12681470034922  \n",
       "1        Andorra          AND                ..  \n",
       "2        Armenia          ARM  4.41768970251022  \n",
       "3        Austria          AUT  5.37756284546725  \n",
       "4     Azerbaijan          AZE  4.37324129505155  \n",
       "..           ...          ...               ...  \n",
       "116          NaN          NaN               NaN  \n",
       "117          NaN          NaN               NaN  \n",
       "118          NaN          NaN               NaN  \n",
       "119          NaN          NaN               NaN  \n",
       "120          NaN          NaN               NaN  \n",
       "\n",
       "[121 rows x 5 columns]"
      ]
     },
     "execution_count": 91,
     "metadata": {},
     "output_type": "execute_result"
    }
   ],
   "source": [
    "df"
   ]
  },
  {
   "cell_type": "code",
   "execution_count": 92,
   "metadata": {},
   "outputs": [],
   "source": [
    "column_names = ['Series_Name','Series_Code',\"Country_Name\",'Country_Code',\"YR2015\"]"
   ]
  },
  {
   "cell_type": "code",
   "execution_count": 93,
   "metadata": {},
   "outputs": [],
   "source": [
    "df=pd.read_csv('Europe cent asia.csv',names=column_names)\n",
    "kraj = df. Country_Name. to_list()\n",
    "dane = df. YR2015. to_list()"
   ]
  },
  {
   "cell_type": "code",
   "execution_count": 94,
   "metadata": {},
   "outputs": [],
   "source": [
    "dane[58]\n",
    "injuryE=[]\n",
    "for i in range(1,59):\n",
    "    injuryE.append(dane[i])"
   ]
  },
  {
   "cell_type": "code",
   "execution_count": 95,
   "metadata": {},
   "outputs": [
    {
     "data": {
      "text/plain": [
       "'6.65101395646464'"
      ]
     },
     "execution_count": 95,
     "metadata": {},
     "output_type": "execute_result"
    }
   ],
   "source": [
    "injuryE[57]"
   ]
  },
  {
   "cell_type": "code",
   "execution_count": 96,
   "metadata": {},
   "outputs": [],
   "source": [
    "lifeE=[]\n",
    "for i in range(59,len(dane)):\n",
    "    lifeE.append(dane[i])    "
   ]
  },
  {
   "cell_type": "code",
   "execution_count": 97,
   "metadata": {},
   "outputs": [],
   "source": [
    "kraj_life=[]\n",
    "for i in range(59,len(kraj)):\n",
    "    kraj_life.append(kraj[i]) "
   ]
  },
  {
   "cell_type": "code",
   "execution_count": 98,
   "metadata": {},
   "outputs": [],
   "source": [
    "kraj_injury=[]\n",
    "for i in range(1,59):\n",
    "    kraj_injury.append(kraj[i]) "
   ]
  },
  {
   "cell_type": "code",
   "execution_count": 99,
   "metadata": {},
   "outputs": [],
   "source": [
    "kraj_injuryE=[]\n",
    "for i in range(58):\n",
    "    l=[]\n",
    "    l.append(i)\n",
    "    l.append(kraj_injury[i])\n",
    "    l.append(injuryE[i])\n",
    "    kraj_injuryE.append(l)   "
   ]
  },
  {
   "cell_type": "code",
   "execution_count": 100,
   "metadata": {},
   "outputs": [],
   "source": [
    "kraj_lifeE=[]\n",
    "for i in range(63):\n",
    "    l=[]\n",
    "    l.append(i)\n",
    "    l.append(kraj_life[i])\n",
    "    l.append(lifeE[i])\n",
    "    kraj_lifeE.append(l)   "
   ]
  },
  {
   "cell_type": "code",
   "execution_count": 101,
   "metadata": {},
   "outputs": [],
   "source": [
    "#Usunięcie pustych wartości\n",
    "l1=[1,9,15,20,22,26,29,32,36,45]\n",
    "j=0\n",
    "for i in l1:\n",
    "    del kraj_injuryE[i+j]\n",
    "    j=j-1\n",
    "  "
   ]
  },
  {
   "cell_type": "code",
   "execution_count": 102,
   "metadata": {},
   "outputs": [],
   "source": [
    "l2=[1,9,15,20,22,26,29,32,36,45,58,59,60,61,62]\n",
    "j=0\n",
    "for i in l2:\n",
    "    del kraj_lifeE[i+j]\n",
    "    j=j-1   "
   ]
  },
  {
   "cell_type": "code",
   "execution_count": 103,
   "metadata": {},
   "outputs": [],
   "source": [
    "column_names = ['Series_Name','Series_Code',\"Country_Name\",'Country_Code',\"YR2015\"]"
   ]
  },
  {
   "cell_type": "code",
   "execution_count": 104,
   "metadata": {},
   "outputs": [],
   "source": [
    "dd=pd.read_csv('America.csv',names=column_names)\n",
    "kraj1 = dd. Country_Name. to_list()\n",
    "dane1 = dd. YR2015. to_list()\n"
   ]
  },
  {
   "cell_type": "code",
   "execution_count": 105,
   "metadata": {},
   "outputs": [],
   "source": [
    "injuryA=[]\n",
    "for i in range(1,46):\n",
    "    injuryA.append(dane1[i])   \n",
    "    \n",
    "lifeA=[]\n",
    "for i in range(46,len(dane1)):\n",
    "    lifeA.append(dane1[i])      "
   ]
  },
  {
   "cell_type": "code",
   "execution_count": 106,
   "metadata": {},
   "outputs": [],
   "source": [
    "kraj_injury1=[]\n",
    "for i in range(1,46):\n",
    "    kraj_injury1.append(kraj1[i]) \n",
    "    \n",
    "kraj_life1=[]\n",
    "for i in range(46,len(kraj1)):\n",
    "    kraj_life1.append(kraj1[i]) \n",
    "    "
   ]
  },
  {
   "cell_type": "code",
   "execution_count": 107,
   "metadata": {},
   "outputs": [],
   "source": [
    "kraj_injuryA=[]\n",
    "for i in range(45):\n",
    "    l=[]\n",
    "    l.append(i)\n",
    "    l.append(kraj_injury1[i])\n",
    "    l.append(injuryA[i])\n",
    "    kraj_injuryA.append(l)     "
   ]
  },
  {
   "cell_type": "code",
   "execution_count": 108,
   "metadata": {},
   "outputs": [],
   "source": [
    "kraj_lifeA=[]\n",
    "for i in range(50):\n",
    "    l=[]\n",
    "    l.append(i)\n",
    "    l.append(kraj_life1[i])\n",
    "    l.append(lifeA[i])\n",
    "    kraj_lifeA.append(l)   \n"
   ]
  },
  {
   "cell_type": "code",
   "execution_count": 109,
   "metadata": {},
   "outputs": [],
   "source": [
    "l3=[2,6,9,11,16,17,32,33,34,36,40,44]\n",
    "j=0\n",
    "for i in l3:\n",
    "    del kraj_injuryA[i+j]\n",
    "    j=j-1\n",
    "  "
   ]
  },
  {
   "cell_type": "code",
   "execution_count": 110,
   "metadata": {},
   "outputs": [],
   "source": [
    "l4=[2,6,9,11,16,17,32,33,34,36,40,44,45,46,47,48,49]\n",
    "j=0\n",
    "for i in l4:\n",
    "    del kraj_lifeA[i+j]\n",
    "    j=j-1\n",
    "  "
   ]
  },
  {
   "cell_type": "code",
   "execution_count": 111,
   "metadata": {},
   "outputs": [],
   "source": [
    "import matplotlib.pyplot as plt\n",
    "from scipy.spatial import ConvexHull\n",
    "import numpy as np\n",
    "import seaborn as sns\n",
    "from matplotlib.animation import FuncAnimation"
   ]
  },
  {
   "cell_type": "code",
   "execution_count": 112,
   "metadata": {},
   "outputs": [],
   "source": [
    "eur=[]\n",
    "for i in range(len(kraj_lifeE)):\n",
    "    l=[]\n",
    "    l.append(float(kraj_lifeE[i][2]))\n",
    "    l.append(float(kraj_injuryE[i][2]))\n",
    "    eur.append(l)\n",
    "   "
   ]
  },
  {
   "cell_type": "code",
   "execution_count": 113,
   "metadata": {},
   "outputs": [],
   "source": [
    "ame=[]\n",
    "for i in range(len(kraj_lifeA)):\n",
    "    l=[]\n",
    "    l.append(float(kraj_lifeA[i][2]))\n",
    "    l.append(float(kraj_injuryA[i][2]))\n",
    "    ame.append(l)   "
   ]
  },
  {
   "cell_type": "code",
   "execution_count": 114,
   "metadata": {},
   "outputs": [],
   "source": [
    "eurame=[]\n",
    "for i in range(len(eur)):\n",
    "    eurame.append(eur[i])\n",
    "for i in range(len(ame)):\n",
    "    eurame.append(ame[i])  "
   ]
  },
  {
   "cell_type": "code",
   "execution_count": 115,
   "metadata": {},
   "outputs": [],
   "source": [
    "EUR=[]\n",
    "AME=[]\n",
    "EURAME=[]\n",
    "EUR=np.array(eur)\n",
    "AME=np.array(ame)\n",
    "EURAME=np.array(eurame)"
   ]
  },
  {
   "cell_type": "code",
   "execution_count": 121,
   "metadata": {},
   "outputs": [
    {
     "name": "stderr",
     "output_type": "stream",
     "text": [
      "MovieWriter ffmpeg unavailable; using Pillow instead.\n"
     ]
    },
    {
     "data": {
      "image/png": "[encoded data removed]",
      "text/plain": [
       "<Figure size 864x864 with 1 Axes>"
      ]
     },
     "metadata": {
      "needs_background": "light"
     },
     "output_type": "display_data"
    }
   ],
   "source": [
    "fig = plt.figure(figsize=(12,12))\n",
    "plt.xlim(62,84)\n",
    "plt.ylim(0,22)\n",
    "plt.ylabel(\"Procent zgonów w wyniku wypadków\",size=20)\n",
    "plt.xlabel(\"Średnia długość życia\",size=20)\n",
    "\n",
    "plt.plot(EURAME[:, 0], EURAME[:, 1], 'o', markersize=7,color='black')\n",
    "f=0\n",
    "d=0\n",
    "\n",
    "def animuj(i):\n",
    "    if i == 1:\n",
    "       \n",
    "        powloka = ConvexHull(EUR)\n",
    "        indeksy = powloka.vertices\n",
    "        punktyPowloki = EUR[indeksy, :]\n",
    "        d = plt.fill(punktyPowloki[:,0], punktyPowloki[:,1], fill=True, edgecolor='b',alpha=0.15)\n",
    "        f = sns.regplot(x=EUR[:,0],y=EUR[:,1],ci=None,color='.5',truncate=False)\n",
    "        plt.title(\"Europe and central Asia\",size=20)\n",
    "\n",
    "        \n",
    "    if i == 2:\n",
    "       \n",
    "        powloka1 = ConvexHull(AME)\n",
    "        indeksy1 = powloka1.vertices\n",
    "        punktyPowloki1 = AME[indeksy1, :]\n",
    "        f = plt.fill(punktyPowloki1[:,0], punktyPowloki1[:,1], fill=True, edgecolor='b',alpha=0.15)\n",
    "        d = sns.regplot(x=AME[:,0],y=AME[:,1],ci=None,color='.5',truncate=False)\n",
    "        plt.title(\"Both Americas\",size=20)\n",
    "       \n",
    "    \n",
    "  \n",
    "        \n",
    "anim = FuncAnimation(fig,animuj,frames=3,interval=2000,init_func=init,repeat=True)       \n",
    "anim.save('zad8.2.gif')      "
   ]
  },
  {
   "cell_type": "code",
   "execution_count": null,
   "metadata": {},
   "outputs": [],
   "source": []
  }
 ],
 "metadata": {
  "kernelspec": {
   "display_name": "Python 3",
   "language": "python",
   "name": "python3"
  },
  "language_info": {
   "codemirror_mode": {
    "name": "ipython",
    "version": 3
   },
   "file_extension": ".py",
   "mimetype": "text/x-python",
   "name": "python",
   "nbconvert_exporter": "python",
   "pygments_lexer": "ipython3",
   "version": "3.8.5"
  }
 },
 "nbformat": 4,
 "nbformat_minor": 4
}
